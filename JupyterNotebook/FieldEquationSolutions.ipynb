{
 "cells": [
  {
   "cell_type": "markdown",
   "metadata": {},
   "source": [
    "# Einstein Field Equations\n",
    "## Carter Rhea\n",
    "### Spring 2018"
   ]
  },
  {
   "cell_type": "markdown",
   "metadata": {},
   "source": [
    "# Goal\n",
    "The purpose of this jupyter notebook is ''simple'': Create a module which calculates the form of the solution equations derived from solving the Einstein Field Equations given some for the Metric Tensor, $g_{\\mu\\nu}$, and Energy-Momentum Tensor, $T_{\\mu\\nu}$.\n",
    "\n",
    "In addition to our primary goal, this notebook will serve as a review of certain critical notions in General Relativity. This was constructed out of review of \"A Gentle Introduction to General Relativity\" (excellent book) in preperation of continued graduate studies in Astrophysics"
   ]
  },
  {
   "cell_type": "markdown",
   "metadata": {},
   "source": [
    "Assuming that we are given the Metric Tensor and Energy-Momentum Tensor, we can go about solving the Field Equations by filling in the blanks! Let's take a look at EFQ (Einstein Field Equations):\n",
    "$$R_{\\mu\\nu} - \\frac{1}{2}Rg_{\\mu\\nu} + \\Lambda g_{\\mu\\nu}= T_{\\mu\\nu}$$\n",
    "\n",
    "While we have already introduced $g_{\\mu\\nu}$ (A tensor describing the curvature of space which is notoriously difficult to solve for), we have yet to define the Ricci Tensor, $R_{\\mu\\nu}$, or Ricci Scalar, $R$.\n",
    "\n",
    "$$R_{\\alpha,\\beta} = \\partial_\\rho\\Gamma^\\rho_{\\beta\\alpha}-\\partial_\\beta\\Gamma^\\rho_{\\rho\\alpha}+\\Gamma^\\rho_{\\rho\\lambda}\\Gamma^\\lambda_{\\beta\\alpha}-\\Gamma^\\rho_{\\beta\\lambda}\\Gamma^\\lambda_{\\rho\\alpha}$$\n",
    "\n",
    "$$R = g^{\\alpha\\beta}R_{\\alpha\\beta}$$"
   ]
  },
  {
   "cell_type": "markdown",
   "metadata": {},
   "source": [
    "And we must clearly define $\\Gamma^i_{jk}$ which is the Christoffel Symbol of the Second Kind. $\\Gamma$ describes the curvature of the basis functions for a space (in free terms).\n",
    "$$\\Gamma^i_{kl} = \\frac{1}{2}g^{im}(g_{mk,l}+g_{ml,k}-g_{kl,m}) $$\n",
    "\n",
    "where $g^{im}=[g_{im}]^{-1}$"
   ]
  },
  {
   "cell_type": "code",
   "execution_count": 1,
   "metadata": {
    "collapsed": true
   },
   "outputs": [],
   "source": [
    "from sympy import *\n",
    "init_printing()\n",
    "from sympy.abc import a,b,c,d,t,r,theta,phi,pi,G\n",
    "Rs = Symbol('Rs')\n",
    "def numtosym(num):\n",
    "    if num == 0:\n",
    "        return t\n",
    "    elif num == 1:\n",
    "        return r\n",
    "    elif num == 2:\n",
    "        return theta\n",
    "    elif num == 3:\n",
    "        return phi\n",
    "    elif num==t or num==r or num==theta or num==phi:\n",
    "        return num\n",
    "    else:\n",
    "        print(\"Please enter valid number: 0, 1, 2, 3\")\n",
    "        return num\n",
    "        \n",
    "\n",
    "def symtonum(sym):\n",
    "    if sym == t:\n",
    "        return 0\n",
    "    elif sym == r:\n",
    "        return 1\n",
    "    elif sym == theta:\n",
    "        return 2\n",
    "    elif sym == phi:\n",
    "        return 3\n",
    "    elif sym==0 or sym==1 or sym==2 or sym==3:\n",
    "        return sym\n",
    "    else:\n",
    "        print(\"Please enter a valid symbol: t, r, theta, phi\")\n",
    "        return sym\n",
    "        "
   ]
  },
  {
   "cell_type": "code",
   "execution_count": 2,
   "metadata": {
    "collapsed": true
   },
   "outputs": [],
   "source": [
    "#Define variables of interest\n",
    "variables = [t,r,theta,phi]\n",
    "#Define function for metric tensor... (Assuming diagonal)\n",
    "#a - dt^2 constant\n",
    "#b - dr^2 constant\n",
    "#c - dtheta^2 constant\n",
    "#d - dphi^2 constant\n",
    "def MetTen(a,b,c,d):\n",
    "    g = Array([[a,0,0,0],[0,b,0,0],[0,0,c,0],[0,0,0,d]])\n",
    "    return g\n",
    "#Define differentiation of metric tensor for calculation of Christoffel Sybol\n",
    "#i - row for metric tensor\n",
    "#j - col for metric tensor\n",
    "#k - derivative wrt k\n",
    "def MTdiff(g,i,j,k):\n",
    "    k = numtosym(k)\n",
    "    i = symtonum(i)\n",
    "    j = symtonum(j)\n",
    "    return diff(g[i,j],k)\n",
    "#Define inverse metric tensor\n",
    "def MTinv(g):\n",
    "    g0inv = simplify(1/g[0,0])\n",
    "    g1inv = simplify(1/g[1,1])\n",
    "    g2inv = simplify(1/g[2,2])\n",
    "    g3inv = simplify(1/g[3,3])\n",
    "    return MetTen(g0inv,g1inv,g2inv,g3inv)"
   ]
  },
  {
   "cell_type": "markdown",
   "metadata": {},
   "source": [
    "As an example let us examine the minkowski metric, $\\eta_{\\mu\\nu}$ which simply has $1$ on the diagonal and the chosen sign convention $(+ - - -)$. "
   ]
  },
  {
   "cell_type": "code",
   "execution_count": 3,
   "metadata": {},
   "outputs": [
    {
     "name": "stdout",
     "output_type": "stream",
     "text": [
      "[[1, 0, 0, 0], [0, 1, 0, 0], [0, 0, 1, 0], [0, 0, 0, 1]]\n",
      "0 0 0 0 0 0 0 0 0 0 0 0 0 0 0 0 0 0 0 0 0 0 0 0 0 0 0 0 0 0 0 0 0 0 0 0 0 0 0 0 0 0 0 0 0 0 0 0 0 0 0 0 0 0 0 0 0 0 0 0 0 0 0 0 "
     ]
    }
   ],
   "source": [
    "Minkow = MetTen(1,1,1,1)\n",
    "print(Minkow)\n",
    "for i in range(4):\n",
    "    for j in range(4):\n",
    "        for k in range(4): \n",
    "            print(MTdiff(Minkow,i,j,k),end=' ')"
   ]
  },
  {
   "cell_type": "markdown",
   "metadata": {},
   "source": [
    "We clearly see that our differentiation is behaving as we hoped it would!"
   ]
  },
  {
   "cell_type": "code",
   "execution_count": 4,
   "metadata": {
    "collapsed": true
   },
   "outputs": [],
   "source": [
    "#Define Christoffel Symbol\n",
    "#i - upper index\n",
    "#k - lower index one\n",
    "#l - lower index two\n",
    "def Christoffel(g,i,k,l):\n",
    "    expr = 0\n",
    "    i = symtonum(i)\n",
    "    for m in range(4):\n",
    "        expr += 0.5*MTinv(g)[i,m]*(MTdiff(g,m,k,l)+MTdiff(g,m,l,k)-MTdiff(g,k,l,m))\n",
    "    return expr\n",
    "#Gamma - Christoffel Symbol\n",
    "#rho - derivative wrt rho\n",
    "def ChristoffelDiff(Gamma,rho):\n",
    "    rho = numtosym(rho)\n",
    "    return diff(Gamma,rho)"
   ]
  },
  {
   "cell_type": "code",
   "execution_count": 5,
   "metadata": {
    "collapsed": true
   },
   "outputs": [],
   "source": [
    "#Define Ricci Tensor\n",
    "#alpha - lower index one\n",
    "#beta - lower index two\n",
    "def Ricci(g,alpha,beta):\n",
    "    final_ric = 0\n",
    "    for rho in range(4):\n",
    "        p1 = ChristoffelDiff(Christoffel(g,rho,alpha,beta),rho)\n",
    "        p2 = -ChristoffelDiff(Christoffel(g,rho,alpha,rho),beta)\n",
    "        p3 = 0\n",
    "        p4 = 0\n",
    "        for lam in range(4):\n",
    "            p3 += Christoffel(g,rho,lam,rho)*Christoffel(g,lam,alpha,beta)\n",
    "            p4 -= Christoffel(g,rho,lam,beta)*Christoffel(g,lam,alpha,rho)\n",
    "        final_ric += p1+p2+p3+p4\n",
    "    return final_ric\n",
    "def RicciConst(g):\n",
    "    Rc = 0\n",
    "    for i in range(4):\n",
    "        Rc += MTinv(g)[i,i]*Ricci(g,i,i)\n",
    "    return simplify(Rc) "
   ]
  },
  {
   "cell_type": "code",
   "execution_count": 6,
   "metadata": {},
   "outputs": [
    {
     "data": {
      "image/png": "[encoded data removed]",
      "text/latex": [
       "$$0$$"
      ],
      "text/plain": [
       "0"
      ]
     },
     "execution_count": 6,
     "metadata": {},
     "output_type": "execute_result"
    }
   ],
   "source": [
    "Ricci(Minkow,t,t)"
   ]
  },
  {
   "cell_type": "markdown",
   "metadata": {},
   "source": [
    "We now need to consider how we will handle the energy-momentum tensor:\n",
    "\n",
    "$\\textit{DUST:}$\n",
    "$$T^{\\mu}_\\nu = diag\\{\\rho,0,0,0\\} $$\n",
    "\n",
    "$\\textit{PERFECT FLUID:}$\n",
    "$$T^{\\mu}_\\nu = diag\\{\\rho,-P,-P,-P\\} $$\n",
    "\n",
    "where $\\rho$ is mass density and $P$ is pressure."
   ]
  },
  {
   "cell_type": "markdown",
   "metadata": {},
   "source": [
    "We now are interested in solving the field equations given a metrc and certain situation; Let us start by solving for our differential equations using the Schwarzchild Metric which assumes $T^{\\mu\\nu} := \\textbf{0}$."
   ]
  },
  {
   "cell_type": "code",
   "execution_count": 7,
   "metadata": {},
   "outputs": [],
   "source": [
    "from sympy import sin\n",
    "MetSchwartz = Matrix([[1-Rs/r,0,0,0],[0,-(1-Rs/r)**(-1),0,0],[0,0,-r**2,0],[0,0,0,-r**2*sin(theta)**2]])"
   ]
  },
  {
   "cell_type": "code",
   "execution_count": 8,
   "metadata": {},
   "outputs": [
    {
     "name": "stdout",
     "output_type": "stream",
     "text": [
      "0.25*Rs**2*(Rs - r)/(r**4*(-Rs + r)) - 0.25*Rs**2*(Rs - r)**2/(r**6*(-Rs/r + 1)**2) + 0.5*Rs/r**3 + 0.5*Rs*(Rs - r)/r**4\n",
      "-0.25*Rs**2/(r**2*(-Rs + r)**2) + 0.25*Rs**2*(Rs - r)/(r**4*(-Rs + r)*(-Rs/r + 1)**2) + 0.5*Rs/(r*(-Rs + r)**2) + 0.5*Rs/(r**2*(-Rs + r)) + 1.0*Rs*(Rs - r)/(r**4*(-Rs/r + 1)**2)\n",
      "0.5*Rs*(1.0*Rs - 1.0*r)/(r*(-Rs + r)) + 0.5*Rs*(Rs - r)*(1.0*Rs - 1.0*r)/(r**3*(-Rs/r + 1)**2)\n",
      "0.5*Rs*(Rs - r)*sin(theta)**2/(r*(-Rs + r)) + 0.5*Rs*(Rs - r)**2*sin(theta)**2/(r**3*(-Rs/r + 1)**2)\n"
     ]
    }
   ],
   "source": [
    "#Let us print out the equations calculated from the diagonal since they are the only nonzero options!\n",
    "for i in range(4):\n",
    "    eqn = Ricci(MetSchwartz,i,i)-(1/2)*(MetSchwartz[i,i]*RicciConst(MetSchwartz))\n",
    "    print(eqn)"
   ]
  },
  {
   "cell_type": "markdown",
   "metadata": {},
   "source": [
    "Equally we should be able to solve for the famed Friemann equation"
   ]
  },
  {
   "cell_type": "code",
   "execution_count": 9,
   "metadata": {},
   "outputs": [],
   "source": [
    "ac = Function('ac')(t)\n",
    "pr = Symbol('pr')\n",
    "rho = Symbol('rho')\n",
    "MetFried = Matrix([[1,0,0,0],[0,-ac**2,0,0],[0,0,-ac**2,0],[0,0,0,-ac**2]])\n",
    "T_pf = -8*pi*G*Matrix([[rho,0,0,0],[0,-pr,0,0],[0,0,-pr,0],[0,0,0,-pr]])"
   ]
  },
  {
   "cell_type": "code",
   "execution_count": 10,
   "metadata": {},
   "outputs": [
    {
     "name": "stdout",
     "output_type": "stream",
     "text": [
      "-3.0*Derivative(ac(t), t, t)/ac(t)\n",
      "1.0*ac(t)*Derivative(ac(t), t, t) + 2.0*Derivative(ac(t), t)**2\n",
      "1.0*ac(t)*Derivative(ac(t), t, t) + 2.0*Derivative(ac(t), t)**2\n",
      "1.0*ac(t)*Derivative(ac(t), t, t) + 2.0*Derivative(ac(t), t)**2\n"
     ]
    }
   ],
   "source": [
    "for i in range(4):\n",
    "    print(Ricci(MetFried,i,i))"
   ]
  },
  {
   "cell_type": "code",
   "execution_count": 11,
   "metadata": {},
   "outputs": [
    {
     "data": {
      "image/png": "[encoded data removed]",
      "text/latex": [
       "$$- \\frac{1}{\\operatorname{ac}^{2}{\\left (t \\right )}} \\left(6.0 \\operatorname{ac}{\\left (t \\right )} \\frac{d^{2}}{d t^{2}}  \\operatorname{ac}{\\left (t \\right )} + 6.0 \\left(\\frac{d}{d t} \\operatorname{ac}{\\left (t \\right )}\\right)^{2}\\right)$$"
      ],
      "text/plain": [
       " ⎛            2                         2⎞ \n",
       " ⎜           d               ⎛d        ⎞ ⎟ \n",
       "-⎜6.0⋅ac(t)⋅───(ac(t)) + 6.0⋅⎜──(ac(t))⎟ ⎟ \n",
       " ⎜            2              ⎝dt       ⎠ ⎟ \n",
       " ⎝          dt                           ⎠ \n",
       "───────────────────────────────────────────\n",
       "                     2                     \n",
       "                   ac (t)                  "
      ]
     },
     "execution_count": 11,
     "metadata": {},
     "output_type": "execute_result"
    }
   ],
   "source": [
    "RicciConst(MetFried)"
   ]
  },
  {
   "cell_type": "code",
   "execution_count": 12,
   "metadata": {},
   "outputs": [],
   "source": [
    "#And let's not be totally lazy...\n",
    "\n",
    "def FieldEqn(g,T,mu,nu):\n",
    "    equation = Ricci(g,mu,nu)-(1/2)*(g[mu,nu]*RicciConst(g))-T[mu,nu]\n",
    "    return simplify(equation)"
   ]
  },
  {
   "cell_type": "code",
   "execution_count": 13,
   "metadata": {},
   "outputs": [
    {
     "name": "stdout",
     "output_type": "stream",
     "text": [
      "8*G*pi*rho + 3.0*Derivative(ac(t), t)**2/ac(t)**2\n"
     ]
    }
   ],
   "source": [
    "print(FieldEqn(MetFried,T_pf,0,0))"
   ]
  },
  {
   "cell_type": "markdown",
   "metadata": {},
   "source": [
    "We really should include a quick calculation of $K$ which indicates which space we live in...\n",
    "\n",
    "$$ K = 0 \\ \\rightarrow{} \\ \\text{Minkowski Space}$$\n",
    "$$ K > 0 \\ \\rightarrow{} \\ \\text{de Sitter Space}$$\n",
    "$$ K < 0 \\ \\rightarrow{} \\ \\text{anti-de Sitter Space}$$"
   ]
  },
  {
   "cell_type": "code",
   "execution_count": 14,
   "metadata": {},
   "outputs": [],
   "source": [
    "def k_calc(g,n):\n",
    "    #n is the spatial dimension number\n",
    "    K = RicciConst(g)/(n*(n-1))\n",
    "    return K"
   ]
  },
  {
   "cell_type": "code",
   "execution_count": 15,
   "metadata": {},
   "outputs": [
    {
     "name": "stdout",
     "output_type": "stream",
     "text": [
      "-(6.0*ac(t)*Derivative(ac(t), t, t) + 6.0*Derivative(ac(t), t)**2)/(12*ac(t)**2)\n"
     ]
    }
   ],
   "source": [
    "print(k_calc(MetFried,4))"
   ]
  },
  {
   "cell_type": "code",
   "execution_count": null,
   "metadata": {},
   "outputs": [],
   "source": []
  }
 ],
 "metadata": {
  "kernelspec": {
   "display_name": "Python 3",
   "language": "python",
   "name": "python3"
  },
  "language_info": {
   "codemirror_mode": {
    "name": "ipython",
    "version": 3
   },
   "file_extension": ".py",
   "mimetype": "text/x-python",
   "name": "python",
   "nbconvert_exporter": "python",
   "pygments_lexer": "ipython3",
   "version": "3.6.3"
  }
 },
 "nbformat": 4,
 "nbformat_minor": 2
}
